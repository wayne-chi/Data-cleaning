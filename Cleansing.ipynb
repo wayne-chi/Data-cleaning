{
 "cells": [
  {
   "cell_type": "code",
   "execution_count": 4,
   "metadata": {},
   "outputs": [],
   "source": [
    "import numpy as np\n",
    "import pandas as pd\n",
    "import random"
   ]
  },
  {
   "cell_type": "code",
   "execution_count": 2,
   "metadata": {},
   "outputs": [],
   "source": [
    "def cleanphoneno (ph):\n",
    "    \"\"\"\n",
    "    cleanphonenumber to change the phone number from integer/float to text form.\n",
    "    \"\"\"\n",
    "    if len(str(ph)) <11:\n",
    "        return '0'+str(ph)\n",
    "    return ph"
   ]
  },
  {
   "cell_type": "code",
   "execution_count": null,
   "metadata": {},
   "outputs": [],
   "source": [
    "def back_to_num(x):\n",
    "    \"\"\"\n",
    "     back_to_num to change the phone number from integer/float to text form.\n",
    "     use with apply fxn\n",
    "    \"\"\"\n",
    "    x = '0'+str(int(x))\n",
    "    return x"
   ]
  },
  {
   "cell_type": "code",
   "execution_count": 1,
   "metadata": {},
   "outputs": [],
   "source": [
    "def nameclean (x):\n",
    "    \"\"\"\n",
    "    to do basic the name cleaning such as \n",
    "    shorten longname etc\n",
    "    adding dots to abbreviated name\n",
    "    \"\"\"\n",
    "    for i in range(len(x.split() )):\n",
    "        if len(x.split()[i]) ==1 :\n",
    "            x.split()[i] = x.split()[i].upper()+'.'\n",
    "    x = ' '.join(u)\n",
    "    return x\n",
    "            \n",
    "    if len(str(x).strip()) >20:\n",
    "        u = x.strip().split()\n",
    "        u[1] = str(u[1][0]).upper()+'.'\n",
    "        x = ' '.join(u)\n",
    "        return x\n",
    "    return x"
   ]
  },
  {
   "cell_type": "code",
   "execution_count": 2,
   "metadata": {},
   "outputs": [],
   "source": [
    "def candc (str1,str2):\n",
    "    \"\"\"\n",
    "    to check for similar names  \n",
    "    \n",
    "    \"\"\"\n",
    "    str1 = str1.upper()\n",
    "    str2 = str2.upper()\n",
    "    set1 = set(str1.split(' '))\n",
    "    set2 = set(str2.split(' '))\n",
    "    if len(set1&set2)>=2:\n",
    "        if len((set1.union(set2)) - (set1&set2)) >=2:\n",
    "            return False\n",
    "        return True\n",
    "    return False\n",
    "               "
   ]
  },
  {
   "cell_type": "code",
   "execution_count": 3,
   "metadata": {},
   "outputs": [],
   "source": [
    "def cross_checker(dframe,col,col2 = 'PHONE NO.'):\n",
    "    \"\"\"\n",
    "    to check and return similar names  and their phone numbers.\n",
    "    \"\"\"\n",
    "    place_keeper = []\n",
    "    post_keeper = {}\n",
    "    ndframe = dframe[col]\n",
    "    for i in range (len(ndframe)):\n",
    "        #print(i)\n",
    "        if i in place_keeper:\n",
    "            continue\n",
    "        for k in range (i+1,len(ndframe)):\n",
    "            #print(ndframe[i],ndframe[k])\n",
    "            if candc(ndframe[i].strip() , ndframe[k].strip()):\n",
    "                \n",
    "                if ndframe[i] in post_keeper:\n",
    "                    post_keeper[ndframe[i]].append((k,ndframe[k],dframe[col2][k]))\n",
    "                else:\n",
    "                    post_keeper[ndframe[i]] = []\n",
    "                    post_keeper[ndframe[i]].append((i,ndframe[i],dframe[col2][i]))\n",
    "                    \n",
    "                    post_keeper[ndframe[i]].append((k,ndframe[k],dframe[col2][k]))\n",
    "                place_keeper.append((i,k))\n",
    "                #post_keeper.append((dframe[:][i],dframe[:][k]))\n",
    "           \n",
    "                \n",
    "   # print (post_keeper)\n",
    "   # print( place_keeper)\n",
    "    return post_keeper\n",
    "                \n",
    "                "
   ]
  },
  {
   "cell_type": "code",
   "execution_count": 6,
   "metadata": {},
   "outputs": [],
   "source": [
    "#are = pd.DataFrame.from_dict(re)\n",
    "def listthem(ans):\n",
    "    \"\"\"\n",
    "    takes in a dictionary(one returned by cross_checker) and returns a panda data frame\n",
    "    \"\"\"\n",
    "    final_list = []\n",
    "    for k in ans:\n",
    "        for i in ans[k] :\n",
    "            final_list.append(i)\n",
    "            \n",
    "    final_list = pd.DataFrame(final_list, columns = ('s/no','Names','Phone No'))        \n",
    "    return final_list\n",
    "\n",
    "            \n",
    "        "
   ]
  },
  {
   "cell_type": "code",
   "execution_count": 7,
   "metadata": {},
   "outputs": [],
   "source": [
    "\n",
    "def cleansing(data,dirt,inplace = False):\n",
    "    \"\"\"\n",
    "    dirt represent the column you want to clean.  basically this is done for the phone number\n",
    "    \n",
    "    \"\"\"\n",
    "    dd = map(back_to_num,data[dirt])\n",
    "    dd = pd.Series(dd)\n",
    "    dd.name = 'Phone'\n",
    "    data['New ' + dirt] = dd\n",
    "    dd = data.drop(columns = [dirt],axis = 1, inplace = inplace)\n",
    "    return dd"
   ]
  },
  {
   "cell_type": "code",
   "execution_count": null,
   "metadata": {},
   "outputs": [],
   "source": []
  }
 ],
 "metadata": {
  "kernelspec": {
   "display_name": "Python 3",
   "language": "python",
   "name": "python3"
  },
  "language_info": {
   "codemirror_mode": {
    "name": "ipython",
    "version": 3
   },
   "file_extension": ".py",
   "mimetype": "text/x-python",
   "name": "python",
   "nbconvert_exporter": "python",
   "pygments_lexer": "ipython3",
   "version": "3.7.4"
  }
 },
 "nbformat": 4,
 "nbformat_minor": 2
}
